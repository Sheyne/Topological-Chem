{
 "cells": [
  {
   "cell_type": "code",
   "execution_count": 41,
   "metadata": {},
   "outputs": [],
   "source": [
    "from matplotlib import pyplot as plt\n",
    "import numpy as np\n",
    "import mapper\n",
    "import tensorflow as tf\n",
    "from itertools import tee\n",
    "import graphviz\n",
    "from load_data import load_data\n",
    "%matplotlib inline"
   ]
  },
  {
   "cell_type": "code",
   "execution_count": 125,
   "metadata": {
    "collapsed": true
   },
   "outputs": [],
   "source": [
    "sections, groups = load_data(\"csolid_cold.txt\")\n",
    "energies = np.array([sec.potential_energy for sec in sections])"
   ]
  },
  {
   "cell_type": "code",
   "execution_count": 126,
   "metadata": {},
   "outputs": [],
   "source": [
    "for idx in range(200, 230):\n",
    "    sect = groups[idx]\n",
    "    pts = sect[:, :3]\n",
    "    velocity = sect[:, 3:]\n",
    "    speed = (velocity**2).sum(axis=-1).reshape(-1, 1)\n",
    "\n",
    "\n",
    "    cov = mapper.cover.cube_cover_primitive()\n",
    "    flt = velocity # mapper.filters.eccentricity(pts)\n",
    "    with Capturing() as output:\n",
    "        mappered = mapper.mapper(pts, flt, cov, mapper.cutoff.histogram(19))\n",
    "\n",
    "    do_mat(mappered.simplices[1], \"csolid_cold{}.png\".format(idx))\n",
    "# g = graphviz.Graph()\n",
    "# for (a,) in mappered.simplices.simplices[0].keys():\n",
    "#     g.node(str(a))\n",
    "\n",
    "# for ((a, b), weight) in mappered.simplices.simplices[1].items():\n",
    "#     g.edge(str(a), str(b), weight=str(weight))\n",
    "# g"
   ]
  },
  {
   "cell_type": "code",
   "execution_count": 6,
   "metadata": {
    "collapsed": true
   },
   "outputs": [],
   "source": [
    "# http://stackoverflow.com/questions/16571150/how-to-capture-stdout-output-from-a-python-function-call\n",
    "\n",
    "from io import StringIO\n",
    "import sys\n",
    "\n",
    "class Capturing(list):\n",
    "    def __enter__(self):\n",
    "        self._stdout = sys.stdout\n",
    "        sys.stdout = self._stringio = StringIO()\n",
    "        return self\n",
    "    def __exit__(self, *args):\n",
    "        self.extend(self._stringio.getvalue().splitlines())\n",
    "        del self._stringio    # free up some memory\n",
    "        sys.stdout = self._stdout"
   ]
  },
  {
   "cell_type": "code",
   "execution_count": 121,
   "metadata": {},
   "outputs": [],
   "source": [
    "from PIL import Image\n",
    "sess = tf.Session()\n",
    "\n",
    "def do_mat(sim, name):\n",
    "    items1, items2 = tee(sim.items())\n",
    "    keys = [k for k,v in items1]\n",
    "    values = [v for k,v in items2]\n",
    "    sparse = tf.SparseTensor(indices=keys, values=values, dense_shape=[1500] * len(keys[0]))\n",
    "    img = sess.run(tf.sparse_tensor_to_dense(sparse))\n",
    "    img = ((img - 1) * -255).astype(\"uint8\")\n",
    "    i = Image.fromarray(img)\n",
    "    i.save(name)"
   ]
  },
  {
   "cell_type": "code",
   "execution_count": null,
   "metadata": {
    "collapsed": true
   },
   "outputs": [],
   "source": []
  }
 ],
 "metadata": {
  "kernelspec": {
   "display_name": "Python 3",
   "language": "python",
   "name": "python3"
  },
  "language_info": {
   "codemirror_mode": {
    "name": "ipython",
    "version": 3
   },
   "file_extension": ".py",
   "mimetype": "text/x-python",
   "name": "python",
   "nbconvert_exporter": "python",
   "pygments_lexer": "ipython3",
   "version": "3.6.1"
  }
 },
 "nbformat": 4,
 "nbformat_minor": 2
}
